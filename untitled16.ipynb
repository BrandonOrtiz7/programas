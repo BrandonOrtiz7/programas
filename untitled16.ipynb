{
  "nbformat": 4,
  "nbformat_minor": 0,
  "metadata": {
    "colab": {
      "provenance": [],
      "name": "untitled16.ipynb",
      "authorship_tag": "ABX9TyPJvgNSz1Jg3AsPAYq5U2sC",
      "include_colab_link": true
    },
    "kernelspec": {
      "name": "python3",
      "display_name": "Python 3"
    },
    "language_info": {
      "name": "python"
    }
  },
  "cells": [
    {
      "cell_type": "markdown",
      "metadata": {
        "id": "view-in-github",
        "colab_type": "text"
      },
      "source": [
        "<a href=\"https://colab.research.google.com/github/BrandonOrtiz7/programas/blob/main/untitled16.ipynb\" target=\"_parent\"><img src=\"https://colab.research.google.com/assets/colab-badge.svg\" alt=\"Open In Colab\"/></a>"
      ]
    },
    {
      "cell_type": "code",
      "execution_count": null,
      "metadata": {
        "colab": {
          "base_uri": "https://localhost:8080/"
        },
        "id": "NZOcLbmXmiPh",
        "outputId": "2f3e3f25-02c8-42d7-ce6b-5cc42a48b604"
      },
      "outputs": [
        {
          "output_type": "stream",
          "name": "stdout",
          "text": [
            "Overwriting programa.cpp\n"
          ]
        }
      ],
      "source": [
        "%%writefile programa.cpp\n",
        "//NUMEROS PRIMOS\n",
        "#include <iostream>\n",
        "using namespace std;\n",
        "int main() {\n",
        "  int n, i = 0;\n",
        "  cout<<\"Ingrese un numero: \";\n",
        "  cin>>n;\n",
        "\n",
        "  for(int x =1 ; x <= n ; x++){\n",
        "    if(n % x == 0) {\n",
        "      i++;\n",
        "    }\n",
        "  }\n",
        "  if( i == 2) {\n",
        "    cout<<\"El numero es primo\";\n",
        "  } else {\n",
        "    cout<<\"El numero no es primo\";\n",
        "  }\n",
        "  return 0 ;\n",
        "\n",
        "}\n",
        "\n",
        "\n",
        "\n"
      ]
    },
    {
      "cell_type": "code",
      "source": [
        "!g++ programa.cpp -o programa\n",
        "!./programa"
      ],
      "metadata": {
        "colab": {
          "base_uri": "https://localhost:8080/"
        },
        "id": "ONiRP6SdnJKj",
        "outputId": "17efe028-c5a8-46ae-9825-364c1ee35a18"
      },
      "execution_count": null,
      "outputs": [
        {
          "output_type": "stream",
          "name": "stdout",
          "text": [
            "Ingrese un numero: 8\n",
            "El numero no es primo"
          ]
        }
      ]
    },
    {
      "cell_type": "code",
      "source": [],
      "metadata": {
        "id": "nNGtST_JTMG_"
      },
      "execution_count": null,
      "outputs": []
    },
    {
      "cell_type": "markdown",
      "source": [
        "NUMEWROS PRIMOS"
      ],
      "metadata": {
        "id": "TdZpXfJPTaPH"
      }
    }
  ]
}